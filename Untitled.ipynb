{
 "cells": [
  {
   "cell_type": "code",
   "execution_count": 1,
   "id": "a2e3f00e",
   "metadata": {},
   "outputs": [],
   "source": [
    "from flask import Flask,request,render_template\n",
    "\n",
    "import numpy as np\n",
    "\n",
    "from tensorflow.keras.preprocessing.image import ImageDataGenerator\n",
    "\n",
    "import cv2\n",
    "\n",
    "from keras.preprocessing import image\n",
    "\n",
    "import os"
   ]
  },
  {
   "cell_type": "code",
   "execution_count": 2,
   "id": "4443bf2d",
   "metadata": {},
   "outputs": [],
   "source": [
    "app = Flask(__name__)"
   ]
  },
  {
   "cell_type": "code",
   "execution_count": 3,
   "id": "c947bb9c",
   "metadata": {},
   "outputs": [
    {
     "name": "stdout",
     "output_type": "stream",
     "text": [
      "Loaded model from disk\n"
     ]
    }
   ],
   "source": [
    "from keras.models import model_from_json\n",
    "\n",
    "# load json and create model\n",
    "json_file = open('mainModel.json', 'r')\n",
    "loaded_model_json = json_file.read()\n",
    "json_file.close()\n",
    "mainModel = model_from_json(loaded_model_json)\n",
    "\n",
    "# load weights into new model\n",
    "mainModel.load_weights(\"mainModel.h5\")\n",
    "print(\"Loaded model from disk\")"
   ]
  },
  {
   "cell_type": "code",
   "execution_count": 4,
   "id": "4faa3e6f",
   "metadata": {},
   "outputs": [],
   "source": [
    "import socket\n",
    "\n",
    "def find_free_port():\n",
    "    with socket.socket(socket.AF_INET, socket.SOCK_STREAM) as s:\n",
    "        s.bind(('127.0.0.1', 0))  # Bind to any available port on the loopback interface\n",
    "        return s.getsockname()[1]\n",
    "\n",
    "# Example of how to use the function\n",
    "port = find_free_port()\n"
   ]
  },
  {
   "cell_type": "code",
   "execution_count": 5,
   "id": "b7779675",
   "metadata": {
    "scrolled": false
   },
   "outputs": [],
   "source": [
    "@app.route('/',methods = ['GET'])\n",
    "def home():\n",
    "    return render_template('index.html')"
   ]
  },
  {
   "cell_type": "code",
   "execution_count": 6,
   "id": "717ad423",
   "metadata": {
    "scrolled": true
   },
   "outputs": [
    {
     "name": "stdout",
     "output_type": "stream",
     "text": [
      " * Serving Flask app '__main__'\n",
      " * Debug mode: off\n"
     ]
    },
    {
     "name": "stderr",
     "output_type": "stream",
     "text": [
      "WARNING: This is a development server. Do not use it in a production deployment. Use a production WSGI server instead.\n",
      " * Running on http://127.0.0.1:60342\n",
      "Press CTRL+C to quit\n",
      "127.0.0.1 - - [05/Nov/2023 10:55:31] \"GET / HTTP/1.1\" 200 -\n",
      "127.0.0.1 - - [05/Nov/2023 10:55:31] \"GET /bg2.jpg HTTP/1.1\" 404 -\n",
      "127.0.0.1 - - [05/Nov/2023 10:55:32] \"GET /favicon.ico HTTP/1.1\" 404 -\n"
     ]
    },
    {
     "name": "stdout",
     "output_type": "stream",
     "text": [
      "1/1 [==============================] - 0s 145ms/step\n"
     ]
    },
    {
     "name": "stderr",
     "output_type": "stream",
     "text": [
      "127.0.0.1 - - [05/Nov/2023 10:55:48] \"POST / HTTP/1.1\" 200 -\n",
      "127.0.0.1 - - [05/Nov/2023 10:55:48] \"GET /Users/reddy/Desktop/RK20UG45_Kunduru%20Jayasimha%20Reddy/images/9718.jpg HTTP/1.1\" 404 -\n",
      "127.0.0.1 - - [05/Nov/2023 10:55:48] \"GET /bg2.jpg HTTP/1.1\" 404 -\n",
      "127.0.0.1 - - [05/Nov/2023 10:55:59] \"GET / HTTP/1.1\" 200 -\n"
     ]
    }
   ],
   "source": [
    "@app.route('/', methods=['POST'])\n",
    "def predict():\n",
    "    imagefile = request.files['imagefile']\n",
    "    image_path = \"./images/\" + imagefile.filename\n",
    "    imagefile.save(image_path)\n",
    "\n",
    "    img = image.load_img(image_path, target_size=(224, 224), color_mode=\"grayscale\")\n",
    "    img_array = image.img_to_array(img)\n",
    "    img_array = img_array / 255.0\n",
    "    img_array = np.expand_dims(img_array, axis=0)\n",
    "    predictions = mainModel.predict(img_array)\n",
    "    predicted_class = np.argmax(predictions)\n",
    "    emotion_labels = ['Angry', 'Disgusted', 'Fearful', 'Happy', 'Neutral', 'Sad', 'Surprised']\n",
    "    predicted_emotion = emotion_labels[predicted_class]\n",
    "    \n",
    "    return render_template('index.html',prediction = predicted_emotion,filename = image_path)\n",
    "\n",
    "\n",
    "if __name__ == '__main__':\n",
    "    app.run(debug = False,port = port)"
   ]
  },
  {
   "cell_type": "code",
   "execution_count": null,
   "id": "0854b054",
   "metadata": {},
   "outputs": [],
   "source": []
  }
 ],
 "metadata": {
  "kernelspec": {
   "display_name": "Python 3 (ipykernel)",
   "language": "python",
   "name": "python3"
  },
  "language_info": {
   "codemirror_mode": {
    "name": "ipython",
    "version": 3
   },
   "file_extension": ".py",
   "mimetype": "text/x-python",
   "name": "python",
   "nbconvert_exporter": "python",
   "pygments_lexer": "ipython3",
   "version": "3.11.5"
  }
 },
 "nbformat": 4,
 "nbformat_minor": 5
}
